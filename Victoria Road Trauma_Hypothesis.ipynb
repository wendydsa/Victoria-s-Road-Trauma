{
 "cells": [
  {
   "cell_type": "code",
   "execution_count": 1,
   "id": "122936fe-16bb-41c6-8868-974bb11703dd",
   "metadata": {},
   "outputs": [
    {
     "name": "stdout",
     "output_type": "stream",
     "text": [
      "Populating the interactive namespace from numpy and matplotlib\n"
     ]
    }
   ],
   "source": [
    "import pandas as pd\n",
    "import numpy as np\n",
    "import pandas as pd\n",
    "import folium\n",
    "import matplotlib.pyplot as plt\n",
    "import seaborn as sns\n",
    "\n",
    "sns.set_style(\"whitegrid\")\n",
    "sns.set_style({'font.family':'sans-serif', 'font.serif':['Helvetica Neue'], \n",
    "                'axes.axisbelow': True, 'axes.facecolor': '#F2F2F2', 'axes.grid': False, 'grid.color': 'grey', \n",
    "               'grid.linestyle': '--', 'xtick.color': '.10', 'ytick.color': '.10', 'axes.labelcolor': '.10', 'axes.linewidth': 0.1})\n",
    "\n",
    "# Cause plots to be displayed in the notebook:#F2F2F2\n",
    "%pylab inline\n",
    "%matplotlib inline"
   ]
  },
  {
   "cell_type": "code",
   "execution_count": 2,
   "id": "59f88925-8336-48bd-93e0-03ea98fb980f",
   "metadata": {},
   "outputs": [],
   "source": [
    "df = pd.read_csv('D:/OneDrive/Learning/Data Science/Python/Institute of Data/IOD_Coursework/Mini Project 01/Data Files/Vic_crash_person.csv')"
   ]
  },
  {
   "cell_type": "code",
   "execution_count": 3,
   "id": "867b901b-6e96-4d3f-bfe5-c0b7d24c53bb",
   "metadata": {},
   "outputs": [
    {
     "data": {
      "text/html": [
       "<div>\n",
       "<style scoped>\n",
       "    .dataframe tbody tr th:only-of-type {\n",
       "        vertical-align: middle;\n",
       "    }\n",
       "\n",
       "    .dataframe tbody tr th {\n",
       "        vertical-align: top;\n",
       "    }\n",
       "\n",
       "    .dataframe thead th {\n",
       "        text-align: right;\n",
       "    }\n",
       "</style>\n",
       "<table border=\"1\" class=\"dataframe\">\n",
       "  <thead>\n",
       "    <tr style=\"text-align: right;\">\n",
       "      <th></th>\n",
       "      <th>accident_no</th>\n",
       "      <th>sex</th>\n",
       "      <th>age</th>\n",
       "      <th>age_group</th>\n",
       "      <th>seating_position</th>\n",
       "      <th>road_user</th>\n",
       "      <th>age_driver</th>\n",
       "      <th>gender_driver</th>\n",
       "      <th>g_a_driver</th>\n",
       "      <th>sev_no</th>\n",
       "    </tr>\n",
       "  </thead>\n",
       "  <tbody>\n",
       "    <tr>\n",
       "      <th>0</th>\n",
       "      <td>T20150000004</td>\n",
       "      <td>M</td>\n",
       "      <td>32</td>\n",
       "      <td>31-45</td>\n",
       "      <td>P</td>\n",
       "      <td>Pedestrians</td>\n",
       "      <td>0</td>\n",
       "      <td>0</td>\n",
       "      <td>0</td>\n",
       "      <td>3</td>\n",
       "    </tr>\n",
       "    <tr>\n",
       "      <th>1</th>\n",
       "      <td>T20150000004</td>\n",
       "      <td>M</td>\n",
       "      <td>31</td>\n",
       "      <td>31-45</td>\n",
       "      <td>D</td>\n",
       "      <td>Drivers</td>\n",
       "      <td>Younger Driver</td>\n",
       "      <td>Male Driver</td>\n",
       "      <td>ymd</td>\n",
       "      <td>3</td>\n",
       "    </tr>\n",
       "    <tr>\n",
       "      <th>2</th>\n",
       "      <td>T20150000005</td>\n",
       "      <td>F</td>\n",
       "      <td>80</td>\n",
       "      <td>75+</td>\n",
       "      <td>FS</td>\n",
       "      <td>Passengers</td>\n",
       "      <td>0</td>\n",
       "      <td>0</td>\n",
       "      <td>0</td>\n",
       "      <td>2</td>\n",
       "    </tr>\n",
       "    <tr>\n",
       "      <th>3</th>\n",
       "      <td>T20150000005</td>\n",
       "      <td>F</td>\n",
       "      <td>73</td>\n",
       "      <td>61-75</td>\n",
       "      <td>D</td>\n",
       "      <td>Drivers</td>\n",
       "      <td>Older Driver</td>\n",
       "      <td>Female Driver</td>\n",
       "      <td>ofd</td>\n",
       "      <td>2</td>\n",
       "    </tr>\n",
       "    <tr>\n",
       "      <th>4</th>\n",
       "      <td>T20150000008</td>\n",
       "      <td>M</td>\n",
       "      <td>35</td>\n",
       "      <td>31-45</td>\n",
       "      <td>D</td>\n",
       "      <td>Motorcyclists</td>\n",
       "      <td>Younger Driver</td>\n",
       "      <td>Male Driver</td>\n",
       "      <td>0</td>\n",
       "      <td>1</td>\n",
       "    </tr>\n",
       "  </tbody>\n",
       "</table>\n",
       "</div>"
      ],
      "text/plain": [
       "    accident_no sex  age age_group seating_position      road_user  \\\n",
       "0  T20150000004   M   32     31-45                P    Pedestrians   \n",
       "1  T20150000004   M   31     31-45                D        Drivers   \n",
       "2  T20150000005   F   80       75+               FS     Passengers   \n",
       "3  T20150000005   F   73     61-75                D        Drivers   \n",
       "4  T20150000008   M   35     31-45                D  Motorcyclists   \n",
       "\n",
       "       age_driver  gender_driver g_a_driver  sev_no  \n",
       "0               0              0          0       3  \n",
       "1  Younger Driver    Male Driver        ymd       3  \n",
       "2               0              0          0       2  \n",
       "3    Older Driver  Female Driver        ofd       2  \n",
       "4  Younger Driver    Male Driver          0       1  "
      ]
     },
     "execution_count": 3,
     "metadata": {},
     "output_type": "execute_result"
    }
   ],
   "source": [
    "df.head()"
   ]
  },
  {
   "cell_type": "code",
   "execution_count": 4,
   "id": "35ab0ab0-afab-4d2e-8767-9a849bfbe027",
   "metadata": {},
   "outputs": [
    {
     "data": {
      "text/plain": [
       "3    128804\n",
       "2     52149\n",
       "1      3330\n",
       "4         4\n",
       "Name: sev_no, dtype: int64"
      ]
     },
     "execution_count": 4,
     "metadata": {},
     "output_type": "execute_result"
    }
   ],
   "source": [
    "df.sev_no.value_counts()"
   ]
  },
  {
   "cell_type": "code",
   "execution_count": 5,
   "id": "9ceedf9c-19b5-450f-ad0b-daceb130ef86",
   "metadata": {},
   "outputs": [
    {
     "data": {
      "text/plain": [
       "accident_no         object\n",
       "sex                 object\n",
       "age                  int64\n",
       "age_group           object\n",
       "seating_position    object\n",
       "road_user           object\n",
       "age_driver          object\n",
       "gender_driver       object\n",
       "g_a_driver          object\n",
       "sev_no               int64\n",
       "dtype: object"
      ]
     },
     "execution_count": 5,
     "metadata": {},
     "output_type": "execute_result"
    }
   ],
   "source": [
    "df.dtypes"
   ]
  },
  {
   "cell_type": "code",
   "execution_count": 19,
   "id": "982698f1-1793-4cc4-bc23-454c53342afa",
   "metadata": {},
   "outputs": [],
   "source": [
    "df_m = df.loc[df.sex == 'M']\n",
    "df_f = df.loc[df.sex == 'F']"
   ]
  },
  {
   "cell_type": "code",
   "execution_count": 20,
   "id": "51e921db-c385-4d6c-985d-fde7ab57308f",
   "metadata": {},
   "outputs": [
    {
     "data": {
      "text/html": [
       "<div>\n",
       "<style scoped>\n",
       "    .dataframe tbody tr th:only-of-type {\n",
       "        vertical-align: middle;\n",
       "    }\n",
       "\n",
       "    .dataframe tbody tr th {\n",
       "        vertical-align: top;\n",
       "    }\n",
       "\n",
       "    .dataframe thead th {\n",
       "        text-align: right;\n",
       "    }\n",
       "</style>\n",
       "<table border=\"1\" class=\"dataframe\">\n",
       "  <thead>\n",
       "    <tr style=\"text-align: right;\">\n",
       "      <th></th>\n",
       "      <th>accident_no</th>\n",
       "      <th>sex</th>\n",
       "      <th>age</th>\n",
       "      <th>age_group</th>\n",
       "      <th>seating_position</th>\n",
       "      <th>road_user</th>\n",
       "      <th>age_driver</th>\n",
       "      <th>gender_driver</th>\n",
       "      <th>g_a_driver</th>\n",
       "      <th>sev_no</th>\n",
       "    </tr>\n",
       "  </thead>\n",
       "  <tbody>\n",
       "    <tr>\n",
       "      <th>0</th>\n",
       "      <td>T20150000004</td>\n",
       "      <td>M</td>\n",
       "      <td>32</td>\n",
       "      <td>31-45</td>\n",
       "      <td>P</td>\n",
       "      <td>Pedestrians</td>\n",
       "      <td>0</td>\n",
       "      <td>0</td>\n",
       "      <td>0</td>\n",
       "      <td>3</td>\n",
       "    </tr>\n",
       "    <tr>\n",
       "      <th>1</th>\n",
       "      <td>T20150000004</td>\n",
       "      <td>M</td>\n",
       "      <td>31</td>\n",
       "      <td>31-45</td>\n",
       "      <td>D</td>\n",
       "      <td>Drivers</td>\n",
       "      <td>Younger Driver</td>\n",
       "      <td>Male Driver</td>\n",
       "      <td>ymd</td>\n",
       "      <td>3</td>\n",
       "    </tr>\n",
       "    <tr>\n",
       "      <th>4</th>\n",
       "      <td>T20150000008</td>\n",
       "      <td>M</td>\n",
       "      <td>35</td>\n",
       "      <td>31-45</td>\n",
       "      <td>D</td>\n",
       "      <td>Motorcyclists</td>\n",
       "      <td>Younger Driver</td>\n",
       "      <td>Male Driver</td>\n",
       "      <td>0</td>\n",
       "      <td>1</td>\n",
       "    </tr>\n",
       "    <tr>\n",
       "      <th>5</th>\n",
       "      <td>T20150000008</td>\n",
       "      <td>M</td>\n",
       "      <td>35</td>\n",
       "      <td>31-45</td>\n",
       "      <td>D</td>\n",
       "      <td>Motorcyclists</td>\n",
       "      <td>Younger Driver</td>\n",
       "      <td>Male Driver</td>\n",
       "      <td>0</td>\n",
       "      <td>1</td>\n",
       "    </tr>\n",
       "    <tr>\n",
       "      <th>6</th>\n",
       "      <td>T20150000011</td>\n",
       "      <td>M</td>\n",
       "      <td>48</td>\n",
       "      <td>46-60</td>\n",
       "      <td>D</td>\n",
       "      <td>Drivers</td>\n",
       "      <td>Older Driver</td>\n",
       "      <td>Male Driver</td>\n",
       "      <td>omd</td>\n",
       "      <td>2</td>\n",
       "    </tr>\n",
       "  </tbody>\n",
       "</table>\n",
       "</div>"
      ],
      "text/plain": [
       "    accident_no sex  age age_group seating_position      road_user  \\\n",
       "0  T20150000004   M   32     31-45                P    Pedestrians   \n",
       "1  T20150000004   M   31     31-45                D        Drivers   \n",
       "4  T20150000008   M   35     31-45                D  Motorcyclists   \n",
       "5  T20150000008   M   35     31-45                D  Motorcyclists   \n",
       "6  T20150000011   M   48     46-60                D        Drivers   \n",
       "\n",
       "       age_driver gender_driver g_a_driver  sev_no  \n",
       "0               0             0          0       3  \n",
       "1  Younger Driver   Male Driver        ymd       3  \n",
       "4  Younger Driver   Male Driver          0       1  \n",
       "5  Younger Driver   Male Driver          0       1  \n",
       "6    Older Driver   Male Driver        omd       2  "
      ]
     },
     "execution_count": 20,
     "metadata": {},
     "output_type": "execute_result"
    }
   ],
   "source": [
    "df_m.head()"
   ]
  },
  {
   "cell_type": "code",
   "execution_count": 34,
   "id": "d120e985-f409-42b7-b276-76c5c4b6dd63",
   "metadata": {},
   "outputs": [
    {
     "data": {
      "text/html": [
       "<div>\n",
       "<style scoped>\n",
       "    .dataframe tbody tr th:only-of-type {\n",
       "        vertical-align: middle;\n",
       "    }\n",
       "\n",
       "    .dataframe tbody tr th {\n",
       "        vertical-align: top;\n",
       "    }\n",
       "\n",
       "    .dataframe thead th {\n",
       "        text-align: right;\n",
       "    }\n",
       "</style>\n",
       "<table border=\"1\" class=\"dataframe\">\n",
       "  <thead>\n",
       "    <tr style=\"text-align: right;\">\n",
       "      <th></th>\n",
       "      <th>accident_no</th>\n",
       "      <th>sex</th>\n",
       "      <th>age</th>\n",
       "      <th>age_group</th>\n",
       "      <th>seating_position</th>\n",
       "      <th>road_user</th>\n",
       "      <th>age_driver</th>\n",
       "      <th>gender_driver</th>\n",
       "      <th>g_a_driver</th>\n",
       "      <th>sev_no</th>\n",
       "    </tr>\n",
       "  </thead>\n",
       "  <tbody>\n",
       "    <tr>\n",
       "      <th>2</th>\n",
       "      <td>T20150000005</td>\n",
       "      <td>F</td>\n",
       "      <td>80</td>\n",
       "      <td>75+</td>\n",
       "      <td>FS</td>\n",
       "      <td>Passengers</td>\n",
       "      <td>0</td>\n",
       "      <td>0</td>\n",
       "      <td>0</td>\n",
       "      <td>2</td>\n",
       "    </tr>\n",
       "    <tr>\n",
       "      <th>3</th>\n",
       "      <td>T20150000005</td>\n",
       "      <td>F</td>\n",
       "      <td>73</td>\n",
       "      <td>61-75</td>\n",
       "      <td>D</td>\n",
       "      <td>Drivers</td>\n",
       "      <td>Older Driver</td>\n",
       "      <td>Female Driver</td>\n",
       "      <td>ofd</td>\n",
       "      <td>2</td>\n",
       "    </tr>\n",
       "    <tr>\n",
       "      <th>7</th>\n",
       "      <td>T20150000014</td>\n",
       "      <td>F</td>\n",
       "      <td>27</td>\n",
       "      <td>16-30</td>\n",
       "      <td>D</td>\n",
       "      <td>Drivers</td>\n",
       "      <td>Younger Driver</td>\n",
       "      <td>Female Driver</td>\n",
       "      <td>yfd</td>\n",
       "      <td>3</td>\n",
       "    </tr>\n",
       "    <tr>\n",
       "      <th>12</th>\n",
       "      <td>T20150000028</td>\n",
       "      <td>F</td>\n",
       "      <td>54</td>\n",
       "      <td>46-60</td>\n",
       "      <td>D</td>\n",
       "      <td>Drivers</td>\n",
       "      <td>Older Driver</td>\n",
       "      <td>Female Driver</td>\n",
       "      <td>ofd</td>\n",
       "      <td>3</td>\n",
       "    </tr>\n",
       "    <tr>\n",
       "      <th>13</th>\n",
       "      <td>T20150000028</td>\n",
       "      <td>F</td>\n",
       "      <td>31</td>\n",
       "      <td>31-45</td>\n",
       "      <td>D</td>\n",
       "      <td>Drivers</td>\n",
       "      <td>Younger Driver</td>\n",
       "      <td>Female Driver</td>\n",
       "      <td>yfd</td>\n",
       "      <td>3</td>\n",
       "    </tr>\n",
       "  </tbody>\n",
       "</table>\n",
       "</div>"
      ],
      "text/plain": [
       "     accident_no sex  age age_group seating_position   road_user  \\\n",
       "2   T20150000005   F   80       75+               FS  Passengers   \n",
       "3   T20150000005   F   73     61-75                D     Drivers   \n",
       "7   T20150000014   F   27     16-30                D     Drivers   \n",
       "12  T20150000028   F   54     46-60                D     Drivers   \n",
       "13  T20150000028   F   31     31-45                D     Drivers   \n",
       "\n",
       "        age_driver  gender_driver g_a_driver  sev_no  \n",
       "2                0              0          0       2  \n",
       "3     Older Driver  Female Driver        ofd       2  \n",
       "7   Younger Driver  Female Driver        yfd       3  \n",
       "12    Older Driver  Female Driver        ofd       3  \n",
       "13  Younger Driver  Female Driver        yfd       3  "
      ]
     },
     "execution_count": 34,
     "metadata": {},
     "output_type": "execute_result"
    }
   ],
   "source": [
    "df_f.head()"
   ]
  },
  {
   "cell_type": "code",
   "execution_count": 22,
   "id": "55821a5a-efcb-4820-b1cd-dee2098e6ea7",
   "metadata": {
    "collapsed": true,
    "jupyter": {
     "outputs_hidden": true
    },
    "tags": []
   },
   "outputs": [
    {
     "data": {
      "image/png": "[encoded data removed]",
      "text/plain": [
       "<Figure size 720x576 with 1 Axes>"
      ]
     },
     "metadata": {
      "needs_background": "light"
     },
     "output_type": "display_data"
    }
   ],
   "source": [
    "plt.figure(figsize=(10,8))\n",
    "hist_age = sns.histplot(df.age, bins=15, color='red', kde=True)\n",
    "sns.despine(left=True, bottom=True)\n",
    "\n",
    "hist_age.set_xlabel('Age',fontsize = 18, fontweight='bold', color='#595959')\n",
    "hist_age.set_ylabel('Observations',fontsize = 18, fontweight='bold', color='#595959')\n",
    "hist_age.grid(axis='y')\n",
    "\n",
    "plt.savefig('D:/OneDrive/Learning/Data Science/Python/Institute of Data/IOD_Coursework/Mini Project 01/Images/age_hist.png')\n",
    "plt.show()"
   ]
  },
  {
   "cell_type": "code",
   "execution_count": 53,
   "id": "859e9e13-21c1-4085-a3a0-b58e14e82276",
   "metadata": {},
   "outputs": [
    {
     "data": {
      "image/png": "[encoded data removed]",
      "text/plain": [
       "<Figure size 720x576 with 1 Axes>"
      ]
     },
     "metadata": {
      "needs_background": "light"
     },
     "output_type": "display_data"
    }
   ],
   "source": [
    "plt.figure(figsize=(10,8))\n",
    "plt.hist(df_m.age, alpha=0.7, bins=20, color='orange', label='Male')\n",
    "plt.hist(df_f.age, alpha=0.5, bins=20, color='blue', label='Female')\n",
    "\n",
    "plt.ylabel('Frequency', fontsize=15)\n",
    "plt.legend()\n",
    "\n",
    "plt.savefig('D:/OneDrive/Learning/Data Science/Python/Institute of Data/IOD_Coursework/Mini Project 01/Images/m_f_age_all.png')\n",
    "plt.show();"
   ]
  },
  {
   "cell_type": "code",
   "execution_count": 62,
   "id": "2d33c441-4e84-46db-9693-b86e83ec3d88",
   "metadata": {},
   "outputs": [],
   "source": [
    "m_d = df_m.loc[df_m.seating_position == 'D']\n",
    "f_d = df_f.loc[df_f.seating_position == 'D']"
   ]
  },
  {
   "cell_type": "code",
   "execution_count": 63,
   "id": "1a887a93-24d7-49f7-97be-3fc370dcb462",
   "metadata": {},
   "outputs": [
    {
     "data": {
      "text/html": [
       "<div>\n",
       "<style scoped>\n",
       "    .dataframe tbody tr th:only-of-type {\n",
       "        vertical-align: middle;\n",
       "    }\n",
       "\n",
       "    .dataframe tbody tr th {\n",
       "        vertical-align: top;\n",
       "    }\n",
       "\n",
       "    .dataframe thead th {\n",
       "        text-align: right;\n",
       "    }\n",
       "</style>\n",
       "<table border=\"1\" class=\"dataframe\">\n",
       "  <thead>\n",
       "    <tr style=\"text-align: right;\">\n",
       "      <th></th>\n",
       "      <th>accident_no</th>\n",
       "      <th>sex</th>\n",
       "      <th>age</th>\n",
       "      <th>age_group</th>\n",
       "      <th>seating_position</th>\n",
       "      <th>road_user</th>\n",
       "      <th>age_driver</th>\n",
       "      <th>gender_driver</th>\n",
       "      <th>g_a_driver</th>\n",
       "      <th>sev_no</th>\n",
       "    </tr>\n",
       "  </thead>\n",
       "  <tbody>\n",
       "    <tr>\n",
       "      <th>3</th>\n",
       "      <td>T20150000005</td>\n",
       "      <td>F</td>\n",
       "      <td>73</td>\n",
       "      <td>61-75</td>\n",
       "      <td>D</td>\n",
       "      <td>Drivers</td>\n",
       "      <td>Older Driver</td>\n",
       "      <td>Female Driver</td>\n",
       "      <td>ofd</td>\n",
       "      <td>2</td>\n",
       "    </tr>\n",
       "    <tr>\n",
       "      <th>7</th>\n",
       "      <td>T20150000014</td>\n",
       "      <td>F</td>\n",
       "      <td>27</td>\n",
       "      <td>16-30</td>\n",
       "      <td>D</td>\n",
       "      <td>Drivers</td>\n",
       "      <td>Younger Driver</td>\n",
       "      <td>Female Driver</td>\n",
       "      <td>yfd</td>\n",
       "      <td>3</td>\n",
       "    </tr>\n",
       "    <tr>\n",
       "      <th>12</th>\n",
       "      <td>T20150000028</td>\n",
       "      <td>F</td>\n",
       "      <td>54</td>\n",
       "      <td>46-60</td>\n",
       "      <td>D</td>\n",
       "      <td>Drivers</td>\n",
       "      <td>Older Driver</td>\n",
       "      <td>Female Driver</td>\n",
       "      <td>ofd</td>\n",
       "      <td>3</td>\n",
       "    </tr>\n",
       "    <tr>\n",
       "      <th>13</th>\n",
       "      <td>T20150000028</td>\n",
       "      <td>F</td>\n",
       "      <td>31</td>\n",
       "      <td>31-45</td>\n",
       "      <td>D</td>\n",
       "      <td>Drivers</td>\n",
       "      <td>Younger Driver</td>\n",
       "      <td>Female Driver</td>\n",
       "      <td>yfd</td>\n",
       "      <td>3</td>\n",
       "    </tr>\n",
       "    <tr>\n",
       "      <th>14</th>\n",
       "      <td>T20150000031</td>\n",
       "      <td>F</td>\n",
       "      <td>19</td>\n",
       "      <td>16-30</td>\n",
       "      <td>D</td>\n",
       "      <td>Drivers</td>\n",
       "      <td>Younger Driver</td>\n",
       "      <td>Female Driver</td>\n",
       "      <td>yfd</td>\n",
       "      <td>3</td>\n",
       "    </tr>\n",
       "  </tbody>\n",
       "</table>\n",
       "</div>"
      ],
      "text/plain": [
       "     accident_no sex  age age_group seating_position road_user  \\\n",
       "3   T20150000005   F   73     61-75                D   Drivers   \n",
       "7   T20150000014   F   27     16-30                D   Drivers   \n",
       "12  T20150000028   F   54     46-60                D   Drivers   \n",
       "13  T20150000028   F   31     31-45                D   Drivers   \n",
       "14  T20150000031   F   19     16-30                D   Drivers   \n",
       "\n",
       "        age_driver  gender_driver g_a_driver  sev_no  \n",
       "3     Older Driver  Female Driver        ofd       2  \n",
       "7   Younger Driver  Female Driver        yfd       3  \n",
       "12    Older Driver  Female Driver        ofd       3  \n",
       "13  Younger Driver  Female Driver        yfd       3  \n",
       "14  Younger Driver  Female Driver        yfd       3  "
      ]
     },
     "execution_count": 63,
     "metadata": {},
     "output_type": "execute_result"
    }
   ],
   "source": [
    "f_d.head()"
   ]
  },
  {
   "cell_type": "code",
   "execution_count": 64,
   "id": "424c709a-0cfd-4334-9cd1-6cee053ad68c",
   "metadata": {},
   "outputs": [
    {
     "data": {
      "image/png": "[encoded data removed]",
      "text/plain": [
       "<Figure size 720x576 with 1 Axes>"
      ]
     },
     "metadata": {
      "needs_background": "light"
     },
     "output_type": "display_data"
    }
   ],
   "source": [
    "plt.figure(figsize=(10,8))\n",
    "plt.hist(m_d.age, alpha=0.7, bins=20, color='orange', label='Male')\n",
    "plt.hist(f_d.age, alpha=0.5, bins=20, color='blue', label='Female')\n",
    "\n",
    "plt.ylabel('Frequency', fontsize=15)\n",
    "plt.legend()\n",
    "\n",
    "plt.savefig('D:/OneDrive/Learning/Data Science/Python/Institute of Data/IOD_Coursework/Mini Project 01/Images/m_f_age_drivers.png')\n",
    "plt.show();"
   ]
  },
  {
   "cell_type": "code",
   "execution_count": 65,
   "id": "55666a97-8ea2-41a9-b2bb-0fee2ebe3682",
   "metadata": {},
   "outputs": [],
   "source": [
    "def bar_charts(df, feature):\n",
    "    '''\n",
    "    Inputs:\n",
    "    df: Dataset\n",
    "    feature: Name of Feature to Check With Survived\n",
    "    '''\n",
    "\n",
    "    _agg = {\n",
    "        'accident_no': 'count'\n",
    "    }\n",
    "    _groupby = ['age_group', feature]\n",
    "\n",
    "    df_feature = df.groupby(by=_groupby).agg(_agg)\n",
    "    \n",
    "    ax = df_feature.unstack().plot(kind='bar', figsize=(12,8))\n",
    "    plt.legend(list(df_feature.index.levels[1].unique()))\n",
    "    plt.xlabel('Age Group', fontsize=15)\n",
    "    plt.xticks(np.arange(6), ('0-15', '16-30','31-45','46-60', '61-75', '75+'))\n",
    "    plt.grid(axis='y')\n",
    "    plt.show();"
   ]
  },
  {
   "cell_type": "code",
   "execution_count": 9,
   "id": "10e16f41-4718-43f4-99c7-75bc56bd7800",
   "metadata": {},
   "outputs": [
    {
     "data": {
      "image/png": "[encoded data removed]",
      "text/plain": [
       "<Figure size 864x576 with 1 Axes>"
      ]
     },
     "metadata": {
      "needs_background": "light"
     },
     "output_type": "display_data"
    }
   ],
   "source": [
    "bar_charts(df, 'sex')"
   ]
  },
  {
   "cell_type": "code",
   "execution_count": 41,
   "id": "e7b49099-8d9a-44f9-9934-bad67ca4ab29",
   "metadata": {},
   "outputs": [
    {
     "data": {
      "image/png": "[encoded data removed]",
      "text/plain": [
       "<Figure size 720x576 with 1 Axes>"
      ]
     },
     "metadata": {
      "needs_background": "light"
     },
     "output_type": "display_data"
    }
   ],
   "source": [
    "df.groupby(by=['age_group', 'sex']).agg({'accident_no': 'count'}).unstack().plot(kind='bar', figsize=(10,8))\n",
    "sns.despine(left=True, bottom=True)\n",
    "hist_age.grid(axis='y')\n",
    "\n",
    "plt.savefig('D:/OneDrive/Learning/Data Science/Python/Institute of Data/IOD_Coursework/Mini Project 01/Images/age_group.png')\n",
    "plt.show();"
   ]
  },
  {
   "cell_type": "code",
   "execution_count": 42,
   "id": "d83a1cc5-96a3-4dd6-8657-e1593f163ea1",
   "metadata": {},
   "outputs": [
    {
     "data": {
      "image/png": "[encoded data removed]",
      "text/plain": [
       "<Figure size 720x576 with 1 Axes>"
      ]
     },
     "metadata": {
      "needs_background": "light"
     },
     "output_type": "display_data"
    }
   ],
   "source": [
    "df.groupby(by=['sev_no', 'sex']).agg({'accident_no': 'count'}).unstack().plot(kind='bar', figsize=(10,8))\n",
    "sns.despine(left=True, bottom=True)\n",
    "hist_age.grid(axis='y')\n",
    "\n",
    "plt.savefig('D:/OneDrive/Learning/Data Science/Python/Institute of Data/IOD_Coursework/Mini Project 01/Images/gen_sev.png')\n",
    "plt.show();"
   ]
  },
  {
   "cell_type": "code",
   "execution_count": 54,
   "id": "a050385a-c576-4450-9d11-32108b29f543",
   "metadata": {},
   "outputs": [
    {
     "data": {
      "image/png": "[encoded data removed]",
      "text/plain": [
       "<Figure size 720x576 with 1 Axes>"
      ]
     },
     "metadata": {
      "needs_background": "light"
     },
     "output_type": "display_data"
    }
   ],
   "source": [
    "df.groupby(by=['road_user', 'sex']).agg({'accident_no': 'count'}).unstack().plot(kind='bar', figsize=(10,8))\n",
    "sns.despine(left=True, bottom=True)\n",
    "hist_age.grid(axis='y')\n",
    "\n",
    "plt.savefig('D:/OneDrive/Learning/Data Science/Python/Institute of Data/IOD_Coursework/Mini Project 01/Images/road_user.png')\n",
    "plt.show();"
   ]
  },
  {
   "cell_type": "code",
   "execution_count": 55,
   "id": "c11f6539-8f2e-43c9-a0e0-3289727e82df",
   "metadata": {},
   "outputs": [
    {
     "data": {
      "text/html": [
       "<div>\n",
       "<style scoped>\n",
       "    .dataframe tbody tr th:only-of-type {\n",
       "        vertical-align: middle;\n",
       "    }\n",
       "\n",
       "    .dataframe tbody tr th {\n",
       "        vertical-align: top;\n",
       "    }\n",
       "\n",
       "    .dataframe thead th {\n",
       "        text-align: right;\n",
       "    }\n",
       "</style>\n",
       "<table border=\"1\" class=\"dataframe\">\n",
       "  <thead>\n",
       "    <tr style=\"text-align: right;\">\n",
       "      <th></th>\n",
       "      <th>age</th>\n",
       "      <th>sev_no</th>\n",
       "    </tr>\n",
       "  </thead>\n",
       "  <tbody>\n",
       "    <tr>\n",
       "      <th>age</th>\n",
       "      <td>1.000000</td>\n",
       "      <td>-0.044113</td>\n",
       "    </tr>\n",
       "    <tr>\n",
       "      <th>sev_no</th>\n",
       "      <td>-0.044113</td>\n",
       "      <td>1.000000</td>\n",
       "    </tr>\n",
       "  </tbody>\n",
       "</table>\n",
       "</div>"
      ],
      "text/plain": [
       "             age    sev_no\n",
       "age     1.000000 -0.044113\n",
       "sev_no -0.044113  1.000000"
      ]
     },
     "execution_count": 55,
     "metadata": {},
     "output_type": "execute_result"
    }
   ],
   "source": [
    "df.corr()"
   ]
  },
  {
   "cell_type": "code",
   "execution_count": 61,
   "id": "ecc65d52-eb2b-4ab9-b204-c5bae93227f0",
   "metadata": {},
   "outputs": [
    {
     "data": {
      "image/png": "[encoded data removed]",
      "text/plain": [
       "<Figure size 936x648 with 1 Axes>"
      ]
     },
     "metadata": {
      "needs_background": "light"
     },
     "output_type": "display_data"
    }
   ],
   "source": [
    "plt.figure(figsize=(13,9))\n",
    "colour1 = sns.color_palette('YlOrRd_r', 10)\n",
    "bar_user = df.road_user.value_counts(normalize=True)\n",
    "\n",
    "bar_user1 = sns.barplot(x= bar_user.index, y=bar_user.values, palette=colour1)\n",
    "sns.despine(left=True, bottom=True)\n",
    "bar_user1.grid(axis='y')\n",
    "\n",
    "bar_user1.bar_label(bar_user1.containers[0], fontsize=13, color='#de2d26', fontweight='bold', padding= 5)\n",
    "_, xlabels = plt.xticks()\n",
    "bar_user1.set_xticklabels(xlabels, fontsize=13, fontweight='bold', color='#595959')\n",
    "\n",
    "plt.savefig('D:/OneDrive/Learning/Data Science/Python/Institute of Data/IOD_Coursework/Mini Project 01/Images/roaduser.png')\n",
    "plt.show()"
   ]
  },
  {
   "cell_type": "code",
   "execution_count": null,
   "id": "527290e6-e987-4cb5-84ee-79c3fcf9766a",
   "metadata": {},
   "outputs": [],
   "source": []
  }
 ],
 "metadata": {
  "kernelspec": {
   "display_name": "Python 3 (ipykernel)",
   "language": "python",
   "name": "python3"
  },
  "language_info": {
   "codemirror_mode": {
    "name": "ipython",
    "version": 3
   },
   "file_extension": ".py",
   "mimetype": "text/x-python",
   "name": "python",
   "nbconvert_exporter": "python",
   "pygments_lexer": "ipython3",
   "version": "3.8.11"
  }
 },
 "nbformat": 4,
 "nbformat_minor": 5
}
